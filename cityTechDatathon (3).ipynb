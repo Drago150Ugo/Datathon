{
 "cells": [
  {
   "cell_type": "code",
   "execution_count": 19,
   "id": "ce59e80a-12be-42df-8347-9df378ef3acf",
   "metadata": {
    "jp-MarkdownHeadingCollapsed": true
   },
   "outputs": [
    {
     "name": "stdout",
     "output_type": "stream",
     "text": [
      "<class 'pandas.core.frame.DataFrame'>\n",
      "RangeIndex: 76167 entries, 0 to 76166\n",
      "Data columns (total 11 columns):\n",
      " #   Column                                             Non-Null Count  Dtype  \n",
      "---  ------                                             --------------  -----  \n",
      " 0   Data Year                                          76167 non-null  int64  \n",
      " 1   Agency Name                                        76167 non-null  object \n",
      " 2   Equal Employment Opportunity (EEO)-4 Job Category  76167 non-null  object \n",
      " 3   Pay Band                                           76167 non-null  object \n",
      " 4   Lower Pay Band Bound                               76167 non-null  float64\n",
      " 5   Upper Pay Band Bound                               76167 non-null  float64\n",
      " 6   Employee Status                                    76167 non-null  object \n",
      " 7   Race                                               76167 non-null  object \n",
      " 8   Ethnicity                                          76167 non-null  object \n",
      " 9   Gender                                             76167 non-null  object \n",
      " 10  Number of Employees                                76167 non-null  object \n",
      "dtypes: float64(2), int64(1), object(8)\n",
      "memory usage: 6.4+ MB\n"
     ]
    },
    {
     "data": {
      "text/html": [
       "<div>\n",
       "<style scoped>\n",
       "    .dataframe tbody tr th:only-of-type {\n",
       "        vertical-align: middle;\n",
       "    }\n",
       "\n",
       "    .dataframe tbody tr th {\n",
       "        vertical-align: top;\n",
       "    }\n",
       "\n",
       "    .dataframe thead th {\n",
       "        text-align: right;\n",
       "    }\n",
       "</style>\n",
       "<table border=\"1\" class=\"dataframe\">\n",
       "  <thead>\n",
       "    <tr style=\"text-align: right;\">\n",
       "      <th></th>\n",
       "      <th>Data Year</th>\n",
       "      <th>Lower Pay Band Bound</th>\n",
       "      <th>Upper Pay Band Bound</th>\n",
       "    </tr>\n",
       "  </thead>\n",
       "  <tbody>\n",
       "    <tr>\n",
       "      <th>count</th>\n",
       "      <td>76167.000000</td>\n",
       "      <td>76167.000000</td>\n",
       "      <td>76167.000000</td>\n",
       "    </tr>\n",
       "    <tr>\n",
       "      <th>mean</th>\n",
       "      <td>2019.531201</td>\n",
       "      <td>74727.766014</td>\n",
       "      <td>79307.286766</td>\n",
       "    </tr>\n",
       "    <tr>\n",
       "      <th>std</th>\n",
       "      <td>1.107024</td>\n",
       "      <td>43951.964913</td>\n",
       "      <td>44680.162279</td>\n",
       "    </tr>\n",
       "    <tr>\n",
       "      <th>min</th>\n",
       "      <td>2018.000000</td>\n",
       "      <td>0.000000</td>\n",
       "      <td>2.990000</td>\n",
       "    </tr>\n",
       "    <tr>\n",
       "      <th>25%</th>\n",
       "      <td>2019.000000</td>\n",
       "      <td>45000.000000</td>\n",
       "      <td>49999.000000</td>\n",
       "    </tr>\n",
       "    <tr>\n",
       "      <th>50%</th>\n",
       "      <td>2020.000000</td>\n",
       "      <td>70000.000000</td>\n",
       "      <td>74999.000000</td>\n",
       "    </tr>\n",
       "    <tr>\n",
       "      <th>75%</th>\n",
       "      <td>2021.000000</td>\n",
       "      <td>100000.000000</td>\n",
       "      <td>104999.000000</td>\n",
       "    </tr>\n",
       "    <tr>\n",
       "      <th>max</th>\n",
       "      <td>2021.000000</td>\n",
       "      <td>290000.000000</td>\n",
       "      <td>294999.000000</td>\n",
       "    </tr>\n",
       "  </tbody>\n",
       "</table>\n",
       "</div>"
      ],
      "text/plain": [
       "          Data Year  Lower Pay Band Bound  Upper Pay Band Bound\n",
       "count  76167.000000          76167.000000          76167.000000\n",
       "mean    2019.531201          74727.766014          79307.286766\n",
       "std        1.107024          43951.964913          44680.162279\n",
       "min     2018.000000              0.000000              2.990000\n",
       "25%     2019.000000          45000.000000          49999.000000\n",
       "50%     2020.000000          70000.000000          74999.000000\n",
       "75%     2021.000000         100000.000000         104999.000000\n",
       "max     2021.000000         290000.000000         294999.000000"
      ]
     },
     "execution_count": 19,
     "metadata": {},
     "output_type": "execute_result"
    }
   ],
   "source": [
    "import pandas as pd\n",
    "path = '/Users/ghostcookie/Desktop/payAndDemographicsReport.csv'\n",
    "demographicsData = pd.read_csv(path)\n",
    "demographicsData.head()\n",
    "demographicsData.isnull().sum()\n",
    "demographicsData.info()\n",
    "demographicsData.describe()"
   ]
  },
  {
   "cell_type": "code",
   "execution_count": 20,
   "id": "fedfae00-493e-4ddc-8bdb-55f306e5b6ec",
   "metadata": {},
   "outputs": [],
   "source": [
    "def handle_ranges(value):\n",
    "    if isinstance(value, str):\n",
    "        if '<' in value:\n",
    "            return 5\n",
    "        elif '-' in value:\n",
    "            low,high = value.split('-')\n",
    "            return(int(low) + int(high)) / 2\n",
    "        elif value == 'Unknown':\n",
    "            return 0\n",
    "    return value\n",
    "demographicsData['Number of Employees'] = demographicsData['Number of Employees'].apply(handle_ranges)\n",
    "demographicsData['Number of Employees'] = pd.to_numeric(demographicsData['Number of Employees'], errors='coerce')"
   ]
  },
  {
   "cell_type": "raw",
   "id": "458f358c-2b29-4cac-a8c7-3c7d8de1bc69",
   "metadata": {},
   "source": [
    "demographicsData['Number of Employees'] = demographicsData['Number of Employees'].replace({\n",
    "    '<5':5,\n",
    "    '5-10': 7.5,\n",
    "    '10-20': 15,\n",
    "    '20-30': 25,\n",
    "    'Unknown': 0\n",
    "})\n",
    "demographicsData['Number of Employees'] = pd.to_numeric(demographicsData['Number of Employees'], errors='coerce')"
   ]
  },
  {
   "cell_type": "code",
   "execution_count": 21,
   "id": "7934aa05-8449-42a7-a7df-5d3b9ecad58c",
   "metadata": {},
   "outputs": [
    {
     "name": "stdout",
     "output_type": "stream",
     "text": [
      "Hispanic/Latino Grouped Data:            Ethnicity Employee Status  Number of Employees\n",
      "0  Hispanic or Latino       Full-Time               177494\n",
      "1  Hispanic or Latino       Part-Time                11700\n",
      "2  Hispanic or Latino        Seasonal                 4168\n",
      "Non-Hispanic/Latino Grouped Data:                Ethnicity Employee Status  Number of Employees\n",
      "3  Non-Hispanic or Latino       Full-Time               551807\n",
      "4  Non-Hispanic or Latino       Part-Time                32522\n",
      "5  Non-Hispanic or Latino        Seasonal                 9962\n"
     ]
    }
   ],
   "source": [
    "grouped = demographicsData.groupby(['Ethnicity', 'Employee Status'])['Number of Employees'].sum().reset_index()\n",
    "\n",
    "hispanicLatinoGrouped = grouped[grouped['Ethnicity'] == 'Hispanic or Latino']\n",
    "nonHispanicLatinoGrouped = grouped[grouped['Ethnicity'] == 'Non-Hispanic or Latino']\n",
    "\n",
    "print(f'Hispanic/Latino Grouped Data:{hispanicLatinoGrouped}')\n",
    "print(f'Non-Hispanic/Latino Grouped Data:{nonHispanicLatinoGrouped}')"
   ]
  },
  {
   "cell_type": "code",
   "execution_count": 22,
   "id": "2719a3b2-36b4-42bb-af57-ec9b5d676841",
   "metadata": {},
   "outputs": [
    {
     "name": "stdout",
     "output_type": "stream",
     "text": [
      "Hispanic/Latino Seasonal, Part-Time: 15868\n",
      "Hispanic/Latino Full-Time: 177494\n"
     ]
    }
   ],
   "source": [
    "hispanicLatinoPt = hispanicLatinoGrouped[hispanicLatinoGrouped['Employee Status'] == 'Part-Time']['Number of Employees'].sum()\n",
    "hispanicLatinoSeasonal = hispanicLatinoGrouped[hispanicLatinoGrouped['Employee Status'] == 'Seasonal']['Number of Employees'].sum()\n",
    "hispanicLatinoSeasonalPt = hispanicLatinoPt + hispanicLatinoSeasonal\n",
    "\n",
    "hispanicLatinoFt = hispanicLatinoGrouped[hispanicLatinoGrouped['Employee Status'] == 'Full-Time']['Number of Employees'].sum()\n",
    "\n",
    "print(f\"Hispanic/Latino Seasonal, Part-Time: {hispanicLatinoSeasonalPt}\")\n",
    "print(f\"Hispanic/Latino Full-Time: {hispanicLatinoFt}\")"
   ]
  },
  {
   "cell_type": "code",
   "execution_count": 23,
   "id": "7b1631a9-e869-48cd-b70c-4338469518ae",
   "metadata": {},
   "outputs": [
    {
     "name": "stdout",
     "output_type": "stream",
     "text": [
      "Non-Hispanic/Latino Seasonal, Part-Time: 42484\n",
      "Non-Hispanic/Latino Full-Time: 551807\n"
     ]
    }
   ],
   "source": [
    "nonHispanicLatinoPt = nonHispanicLatinoGrouped[nonHispanicLatinoGrouped['Employee Status'] == 'Part-Time']['Number of Employees'].sum()\n",
    "nonHispanicLatinoSeasonal = nonHispanicLatinoGrouped[nonHispanicLatinoGrouped['Employee Status'] == 'Seasonal']['Number of Employees'].sum()\n",
    "nonHispanicLatinoSeasonalPt = nonHispanicLatinoPt + nonHispanicLatinoSeasonal\n",
    "\n",
    "nonHispanicLatinoFt = nonHispanicLatinoGrouped[nonHispanicLatinoGrouped['Employee Status'] == 'Full-Time']['Number of Employees'].sum()\n",
    "\n",
    "print(f\"Non-Hispanic/Latino Seasonal, Part-Time: {nonHispanicLatinoSeasonalPt}\")\n",
    "print(f\"Non-Hispanic/Latino Full-Time: {nonHispanicLatinoFt}\")"
   ]
  },
  {
   "cell_type": "code",
   "execution_count": 24,
   "id": "d3a50121-7bcb-45f8-aac3-d81b642fb4d9",
   "metadata": {},
   "outputs": [
    {
     "name": "stdout",
     "output_type": "stream",
     "text": [
      "Contingency Table:\n",
      "                    Hispanic/Latino  Non-Hispanic/Latino\n",
      "Seasonal/Part-Time            15868                42484\n",
      "Full-Time                    177494               551807\n"
     ]
    }
   ],
   "source": [
    "import pandas as pd\n",
    "from scipy.stats import chi2_contingency\n",
    "data = {\n",
    "    'Hispanic/Latino': [15868, 177494],  # Seasonal/Part-Time, Full-Time for Hispanic/Latino\n",
    "    'Non-Hispanic/Latino': [42484, 551807]  # Seasonal/Part-Time, Full-Time for Non-Hispanic/Latino\n",
    "}\n",
    "\n",
    "contingency_table = pd.DataFrame(data, index=['Seasonal/Part-Time', 'Full-Time'])\n",
    "print(\"Contingency Table:\")\n",
    "print(contingency_table)"
   ]
  },
  {
   "cell_type": "code",
   "execution_count": 25,
   "id": "70326c22-e989-4600-9374-7915ed2f550c",
   "metadata": {},
   "outputs": [
    {
     "name": "stdout",
     "output_type": "stream",
     "text": [
      "\n",
      "Chi-Square Test Results:\n",
      "Chi2 Statistic: 237.77829159307\n",
      "Degrees of Freedom: 1\n",
      "P-Value: 1.1999035302932503e-53\n",
      "Expected Counts: \n",
      "[[ 14324.91138103  44027.08861897]\n",
      " [179037.08861897 550263.91138103]]\n",
      "Reject the hypothesis: There is a significant difference in position type between Hispanic/Latino and Non-Hispanic employees.\n"
     ]
    }
   ],
   "source": [
    "\n",
    "chi2, p_value, dof, expected = chi2_contingency(contingency_table)\n",
    "\n",
    "print(\"\\nChi-Square Test Results:\")\n",
    "print(f\"Chi2 Statistic: {chi2}\")\n",
    "print(f\"Degrees of Freedom: {dof}\")\n",
    "print(f\"P-Value: {p_value}\")\n",
    "print(f\"Expected Counts: \\n{expected}\")\n",
    "\n",
    "alpha = 0.05  # Significance level (5%)\n",
    "\n",
    "if p_value < alpha:\n",
    "    print(\"Reject the hypothesis: There is a significant difference in position type between Hispanic/Latino and Non-Hispanic employees.\")\n",
    "else:\n",
    "    print(\"Fail to reject the null hypothesis: No significant difference in position type between Hispanic/Latino and Non-Hispanic employees.\")\n"
   ]
  },
  {
   "cell_type": "code",
   "execution_count": 26,
   "id": "72f4f400-e5c2-4d20-8c4c-cf3c8e518a09",
   "metadata": {},
   "outputs": [
    {
     "data": {
      "image/png": "[encoded data removed]",
      "text/plain": [
       "<Figure size 1000x600 with 1 Axes>"
      ]
     },
     "metadata": {},
     "output_type": "display_data"
    }
   ],
   "source": [
    "import matplotlib.pyplot as plt\n",
    "import numpy as np\n",
    "\n",
    "categories = ['Seasonal/Part-Time', 'Full-Time']\n",
    "hispanic_latino_counts = [15868, 177494]\n",
    "non_hispanic_latino_counts = [42484, 551807]\n",
    "\n",
    "\n",
    "bar_width = 0.35\n",
    "index = np.arange(len(categories))\n",
    "\n",
    "plt.figure(figsize=(10, 6))\n",
    "\n",
    "\n",
    "plt.bar(index, non_hispanic_latino_counts, bar_width, label='Non-Hispanic/Latino', color='skyblue')\n",
    "plt.bar(index + bar_width, hispanic_latino_counts, bar_width, label='Hispanic/Latino', color='orange')\n",
    "\n",
    "\n",
    "plt.xlabel('Position Type')\n",
    "plt.ylabel('Number of Employees')\n",
    "plt.title('Comparison of Seasonal/Part-Time and Full-Time Positions by Hispanic/Latino Status')\n",
    "plt.xticks(index + bar_width / 2, categories)  # Adjust x-ticks to center\n",
    "plt.legend()\n",
    "\n",
    "plt.tight_layout()\n",
    "plt.show()\n"
   ]
  },
  {
   "cell_type": "code",
   "execution_count": null,
   "id": "d9d4322a-4fd7-49bc-8b4a-668a3f413ca9",
   "metadata": {},
   "outputs": [],
   "source": []
  },
  {
   "cell_type": "code",
   "execution_count": null,
   "id": "5e4f7423-6812-44e0-8ff8-624b29a3a59a",
   "metadata": {},
   "outputs": [],
   "source": []
  }
 ],
 "metadata": {
  "kernelspec": {
   "display_name": "Python 3 (ipykernel)",
   "language": "python",
   "name": "python3"
  },
  "language_info": {
   "codemirror_mode": {
    "name": "ipython",
    "version": 3
   },
   "file_extension": ".py",
   "mimetype": "text/x-python",
   "name": "python",
   "nbconvert_exporter": "python",
   "pygments_lexer": "ipython3",
   "version": "3.11.7"
  }
 },
 "nbformat": 4,
 "nbformat_minor": 5
}
